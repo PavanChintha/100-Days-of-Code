{
  "nbformat": 4,
  "nbformat_minor": 0,
  "metadata": {
    "colab": {
      "provenance": [],
      "toc_visible": true,
      "authorship_tag": "ABX9TyOTbeceSh4yUbnVDWcaQ3vJ",
      "include_colab_link": true
    },
    "kernelspec": {
      "name": "python3",
      "display_name": "Python 3"
    },
    "language_info": {
      "name": "python"
    }
  },
  "cells": [
    {
      "cell_type": "markdown",
      "metadata": {
        "id": "view-in-github",
        "colab_type": "text"
      },
      "source": [
        "<a href=\"https://colab.research.google.com/github/PavanChintha/100-Days-of-Code/blob/main/Day_1.ipynb\" target=\"_parent\"><img src=\"https://colab.research.google.com/assets/colab-badge.svg\" alt=\"Open In Colab\"/></a>"
      ]
    },
    {
      "cell_type": "markdown",
      "source": [
        "Topics : printing,commenting,debugging,string manipulation,variables"
      ],
      "metadata": {
        "id": "L82N-JuQfBVI"
      }
    },
    {
      "cell_type": "code",
      "source": [
        "print(\"Day 1 - Python Print Function\")\n",
        "print(\"The function is declared like this:\")\n",
        "print(\"print('what to print')\")"
      ],
      "metadata": {
        "colab": {
          "base_uri": "https://localhost:8080/"
        },
        "id": "SYst7OxOe9nu",
        "outputId": "f258d4ac-7d55-479c-a55e-e8bf7fd52abb"
      },
      "execution_count": 18,
      "outputs": [
        {
          "output_type": "stream",
          "name": "stdout",
          "text": [
            "Day 1 - Python Print Function\n",
            "The function is declared like this:\n",
            "print('what to print')\n"
          ]
        }
      ]
    },
    {
      "cell_type": "code",
      "execution_count": 1,
      "metadata": {
        "colab": {
          "base_uri": "https://localhost:8080/"
        },
        "id": "_FRKfGRkYQuf",
        "outputId": "28a899ab-ea89-4532-bc99-bf2206e74ee5"
      },
      "outputs": [
        {
          "output_type": "stream",
          "name": "stdout",
          "text": [
            "what to print\n"
          ]
        }
      ],
      "source": [
        "print('what to print')"
      ]
    },
    {
      "cell_type": "code",
      "source": [
        "print(\"hello world \\nhello world\")"
      ],
      "metadata": {
        "colab": {
          "base_uri": "https://localhost:8080/"
        },
        "id": "OhIPYXWQb9_g",
        "outputId": "f55039c7-ddbb-4e7d-9946-5a05b28c6b48"
      },
      "execution_count": 3,
      "outputs": [
        {
          "output_type": "stream",
          "name": "stdout",
          "text": [
            "hello world \n",
            "hello world\n"
          ]
        }
      ]
    },
    {
      "cell_type": "code",
      "source": [
        "#commentsinpython"
      ],
      "metadata": {
        "id": "jkysoZzxegIX"
      },
      "execution_count": 17,
      "outputs": []
    },
    {
      "cell_type": "code",
      "source": [
        "print(\"hello\"+ \" pavan\")"
      ],
      "metadata": {
        "colab": {
          "base_uri": "https://localhost:8080/"
        },
        "id": "e5O3HGD7coqE",
        "outputId": "1c3ebf21-3ff7-404f-93a7-21f4a61e2cd1"
      },
      "execution_count": 5,
      "outputs": [
        {
          "output_type": "stream",
          "name": "stdout",
          "text": [
            "hello pavan\n"
          ]
        }
      ]
    },
    {
      "cell_type": "code",
      "source": [
        "#1. Missing double quotes before the word Day.\n",
        "print(\"Day 1 - String Manipulation\")\n",
        "\n",
        "#2. Outer double quotes changed to single quotes.\n",
        "print('String Concatenation is done with the \"+\" sign.')\n",
        "\n",
        "#3. Extra indentation removed\n",
        "print('e.g. print(\"Hello \" + \"world\")')\n",
        "\n",
        "#4. Extra ( in print function removed.\n",
        "print(\"New lines can be created with a backslash and n.\")"
      ],
      "metadata": {
        "colab": {
          "base_uri": "https://localhost:8080/"
        },
        "id": "0EZOiDGmgv9E",
        "outputId": "7d41271a-6a93-4d59-b6de-5469778fc5c0"
      },
      "execution_count": 19,
      "outputs": [
        {
          "output_type": "stream",
          "name": "stdout",
          "text": [
            "Day 1 - String Manipulation\n",
            "String Concatenation is done with the \"+\" sign.\n",
            "e.g. print(\"Hello \" + \"world\")\n",
            "New lines can be created with a backslash and n.\n"
          ]
        }
      ]
    },
    {
      "cell_type": "code",
      "source": [
        "name = input(\"what is your name?\")\n",
        "print(\"Hello \"+name)\n"
      ],
      "metadata": {
        "colab": {
          "base_uri": "https://localhost:8080/"
        },
        "id": "_75FN2IHcvxY",
        "outputId": "37941e91-99b8-4aa8-d417-15212d8f6982"
      },
      "execution_count": 6,
      "outputs": [
        {
          "output_type": "stream",
          "name": "stdout",
          "text": [
            "what is your name?pavan\n",
            "Hello pavan\n"
          ]
        }
      ]
    },
    {
      "cell_type": "code",
      "source": [
        "print(len( input(\"what is your name?\")))"
      ],
      "metadata": {
        "colab": {
          "base_uri": "https://localhost:8080/"
        },
        "id": "yQWyO5CfdDex",
        "outputId": "aa4c1994-8662-4734-b71f-a0a4f4b8331e"
      },
      "execution_count": 8,
      "outputs": [
        {
          "output_type": "stream",
          "name": "stdout",
          "text": [
            "what is your name?pavan\n",
            "5\n"
          ]
        }
      ]
    },
    {
      "cell_type": "code",
      "source": [
        "name=\"jack\"\n",
        "print(name)\n",
        "name=\"pavan\"\n",
        "print(name)"
      ],
      "metadata": {
        "colab": {
          "base_uri": "https://localhost:8080/"
        },
        "id": "oLWMZxtSdRO5",
        "outputId": "835ebc9a-1c70-4d05-f3ab-eeaaeab5f181"
      },
      "execution_count": 9,
      "outputs": [
        {
          "output_type": "stream",
          "name": "stdout",
          "text": [
            "jack\n",
            "pavan\n"
          ]
        }
      ]
    },
    {
      "cell_type": "code",
      "source": [
        "string=input(\"name\")\n",
        "length=len(string)\n",
        "print(length)"
      ],
      "metadata": {
        "colab": {
          "base_uri": "https://localhost:8080/"
        },
        "id": "N8Fb3RLHdgCr",
        "outputId": "955d0b1b-a779-4f6b-a535-5aea912bb316"
      },
      "execution_count": 12,
      "outputs": [
        {
          "output_type": "stream",
          "name": "stdout",
          "text": [
            "namepavan\n",
            "5\n"
          ]
        }
      ]
    },
    {
      "cell_type": "code",
      "source": [
        "a= 5\n",
        "b=10\n",
        "print(\"before swap:\")\n",
        "print(\"a: \",a)\n",
        "print(\"b: \",b)\n",
        "temp = a\n",
        "a=b\n",
        "b=temp\n",
        "print(\"after swap :\")\n",
        "print(\"a: \",a)\n",
        "print(\"b: \",b)"
      ],
      "metadata": {
        "colab": {
          "base_uri": "https://localhost:8080/"
        },
        "id": "ueenEvPbdoUs",
        "outputId": "68c2a008-a046-4439-b276-44f656685f42"
      },
      "execution_count": 16,
      "outputs": [
        {
          "output_type": "stream",
          "name": "stdout",
          "text": [
            "before swap:\n",
            "a:  5\n",
            "b:  10\n",
            "after swap :\n",
            "a:  10\n",
            "b:  5\n"
          ]
        }
      ]
    },
    {
      "cell_type": "code",
      "source": [
        "#Band Name Generator\n",
        "print(\"Welcome to the Band Name Generator.\")\n",
        "street = input(\"What's the name of the city you grew up in?\\n\")\n",
        "pet = input(\"What's your pet's name?\\n\")\n",
        "print(\"Your band name could be \" + street + \" \" + pet)"
      ],
      "metadata": {
        "colab": {
          "base_uri": "https://localhost:8080/"
        },
        "id": "FK2gZbU6gHgw",
        "outputId": "d6309432-6fe8-4a7b-a4b6-e9e226e2ca86"
      },
      "execution_count": 20,
      "outputs": [
        {
          "output_type": "stream",
          "name": "stdout",
          "text": [
            "Welcome to the Band Name Generator.\n",
            "What's the name of the city you grew up in?\n",
            "hyd\n",
            "What's your pet's name?\n",
            "whiskey\n",
            "Your band name could be hyd whiskey\n"
          ]
        }
      ]
    },
    {
      "cell_type": "code",
      "source": [],
      "metadata": {
        "id": "xqkXRbhaifj3"
      },
      "execution_count": null,
      "outputs": []
    }
  ]
}