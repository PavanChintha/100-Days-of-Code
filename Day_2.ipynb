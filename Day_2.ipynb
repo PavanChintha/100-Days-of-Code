{
  "nbformat": 4,
  "nbformat_minor": 0,
  "metadata": {
    "colab": {
      "provenance": [],
      "authorship_tag": "ABX9TyPInpf73lTruKP8U14zt65B",
      "include_colab_link": true
    },
    "kernelspec": {
      "name": "python3",
      "display_name": "Python 3"
    },
    "language_info": {
      "name": "python"
    }
  },
  "cells": [
    {
      "cell_type": "markdown",
      "metadata": {
        "id": "view-in-github",
        "colab_type": "text"
      },
      "source": [
        "<a href=\"https://colab.research.google.com/github/PavanChintha/100-Days-of-Code/blob/main/Day_2.ipynb\" target=\"_parent\"><img src=\"https://colab.research.google.com/assets/colab-badge.svg\" alt=\"Open In Colab\"/></a>"
      ]
    },
    {
      "cell_type": "markdown",
      "source": [
        "Topics : Data types, Numbers, Operations, Type Conversion, f-strings "
      ],
      "metadata": {
        "id": "DvYYA2ROkQqJ"
      }
    },
    {
      "cell_type": "code",
      "execution_count": null,
      "metadata": {
        "id": "OxuFMqCDkKcs"
      },
      "outputs": [],
      "source": [
        "len(\"string\")"
      ]
    },
    {
      "cell_type": "code",
      "source": [
        "print(\"Hello\"[0])"
      ],
      "metadata": {
        "colab": {
          "base_uri": "https://localhost:8080/"
        },
        "id": "DuT_YaZjks9P",
        "outputId": "90a15252-0ebd-4e23-bb82-556eff344c03"
      },
      "execution_count": 1,
      "outputs": [
        {
          "output_type": "stream",
          "name": "stdout",
          "text": [
            "H\n"
          ]
        }
      ]
    },
    {
      "cell_type": "code",
      "source": [
        "print(\"123\"+\"456\")"
      ],
      "metadata": {
        "colab": {
          "base_uri": "https://localhost:8080/"
        },
        "id": "3O33UtzFkz0r",
        "outputId": "f9cd5eb6-bb1e-4efc-f015-ea8a897e6c23"
      },
      "execution_count": 2,
      "outputs": [
        {
          "output_type": "stream",
          "name": "stdout",
          "text": [
            "123456\n"
          ]
        }
      ]
    },
    {
      "cell_type": "code",
      "source": [
        "print(123+456)"
      ],
      "metadata": {
        "colab": {
          "base_uri": "https://localhost:8080/"
        },
        "id": "9LXQPRMBk7fO",
        "outputId": "f40482c7-c86c-46ab-88ba-847de0614bac"
      },
      "execution_count": 3,
      "outputs": [
        {
          "output_type": "stream",
          "name": "stdout",
          "text": [
            "579\n"
          ]
        }
      ]
    },
    {
      "cell_type": "code",
      "source": [
        "num_char=len(input(\"name \"))\n",
        "print(type(num_char))"
      ],
      "metadata": {
        "colab": {
          "base_uri": "https://localhost:8080/"
        },
        "id": "4ERnQcLolAc6",
        "outputId": "571364e7-e9a4-48cd-bca8-538190135f6e"
      },
      "execution_count": 5,
      "outputs": [
        {
          "output_type": "stream",
          "name": "stdout",
          "text": [
            "name pavan\n",
            "<class 'int'>\n"
          ]
        }
      ]
    },
    {
      "cell_type": "code",
      "source": [
        "a=input(\"enter \")\n",
        "print(type(a))"
      ],
      "metadata": {
        "colab": {
          "base_uri": "https://localhost:8080/"
        },
        "id": "PLbeaQtklfQn",
        "outputId": "4ad5b0fc-1727-4c16-946c-e5faf9671704"
      },
      "execution_count": 6,
      "outputs": [
        {
          "output_type": "stream",
          "name": "stdout",
          "text": [
            "enter 213232\n",
            "<class 'str'>\n"
          ]
        }
      ]
    },
    {
      "cell_type": "code",
      "source": [
        "a=str(123)\n",
        "print(type(a))"
      ],
      "metadata": {
        "colab": {
          "base_uri": "https://localhost:8080/"
        },
        "id": "Xy-oqOkilyEe",
        "outputId": "efc54025-eefd-4a41-a7ed-cc10da69b07f"
      },
      "execution_count": 7,
      "outputs": [
        {
          "output_type": "stream",
          "name": "stdout",
          "text": [
            "<class 'str'>\n"
          ]
        }
      ]
    },
    {
      "cell_type": "code",
      "source": [
        "a=float(123)\n",
        "print(type(a))"
      ],
      "metadata": {
        "colab": {
          "base_uri": "https://localhost:8080/"
        },
        "id": "x6no0-lrmBTa",
        "outputId": "86fc7bf6-53dc-4fd1-f776-2b1cb603e500"
      },
      "execution_count": 8,
      "outputs": [
        {
          "output_type": "stream",
          "name": "stdout",
          "text": [
            "<class 'float'>\n"
          ]
        }
      ]
    },
    {
      "cell_type": "code",
      "source": [
        "ans=True\n",
        "print(type(ans))"
      ],
      "metadata": {
        "colab": {
          "base_uri": "https://localhost:8080/"
        },
        "id": "I2N_S0UEmGzR",
        "outputId": "24a77678-2fad-4563-8d33-688d600ce839"
      },
      "execution_count": 9,
      "outputs": [
        {
          "output_type": "stream",
          "name": "stdout",
          "text": [
            "<class 'bool'>\n"
          ]
        }
      ]
    },
    {
      "cell_type": "code",
      "source": [
        "#sum of two digit number from input\n",
        "two_digit_number = input(\"Type a two digit number: \")\n",
        "first_digit=two_digit_number[0]\n",
        "second_digit=two_digit_number[1]\n",
        "\n",
        "sum=int(first_digit)+int(second_digit)\n",
        "print(sum)\n"
      ],
      "metadata": {
        "colab": {
          "base_uri": "https://localhost:8080/"
        },
        "id": "xDvrG9A9mQkm",
        "outputId": "78071e6f-3b92-413d-f773-d044db77ba28"
      },
      "execution_count": 10,
      "outputs": [
        {
          "output_type": "stream",
          "name": "stdout",
          "text": [
            "Type a two digit number: 55\n",
            "10\n"
          ]
        }
      ]
    },
    {
      "cell_type": "code",
      "source": [
        "print(6/3)#float as result by default for division"
      ],
      "metadata": {
        "colab": {
          "base_uri": "https://localhost:8080/"
        },
        "id": "Y8dQqGgkmnAy",
        "outputId": "48ce93f8-cb8d-4bb5-a5ad-a9aeb6f490a0"
      },
      "execution_count": 12,
      "outputs": [
        {
          "output_type": "stream",
          "name": "stdout",
          "text": [
            "2.0\n"
          ]
        }
      ]
    },
    {
      "cell_type": "code",
      "source": [
        "print(8/3)\n",
        "print(int(8/3))#floor\n",
        "print(round(8/3))\n",
        "print(round(8/3,2))#precision upto 2 decimals"
      ],
      "metadata": {
        "colab": {
          "base_uri": "https://localhost:8080/"
        },
        "id": "qwWQ5Hi5qkvw",
        "outputId": "2522b655-8ceb-41a1-b0d8-c78728f32e5e"
      },
      "execution_count": 25,
      "outputs": [
        {
          "output_type": "stream",
          "name": "stdout",
          "text": [
            "2.6666666666666665\n",
            "2\n",
            "3\n",
            "2.67\n"
          ]
        }
      ]
    },
    {
      "cell_type": "code",
      "source": [
        "#BMI Calculator\n",
        "height = input(\"enter your height in m: \")\n",
        "weight = input(\"enter your weight in kg: \")\n",
        "bmi=float(weight)/(float(height)**2)\n",
        "result=int(bmi)\n",
        "print(result)"
      ],
      "metadata": {
        "colab": {
          "base_uri": "https://localhost:8080/"
        },
        "id": "VViLlsAvm1cB",
        "outputId": "88d74c56-e013-4ad7-c638-df5a986831f3"
      },
      "execution_count": 16,
      "outputs": [
        {
          "output_type": "stream",
          "name": "stdout",
          "text": [
            "enter your height in m: 2\n",
            "enter your weight in kg: 100\n",
            "25\n"
          ]
        }
      ]
    },
    {
      "cell_type": "code",
      "source": [
        "print(8//3)#int as result"
      ],
      "metadata": {
        "colab": {
          "base_uri": "https://localhost:8080/"
        },
        "id": "qZL2ZttinW9F",
        "outputId": "ff7e5b81-a09c-4594-9e78-bb15b83e800f"
      },
      "execution_count": 18,
      "outputs": [
        {
          "output_type": "stream",
          "name": "stdout",
          "text": [
            "2\n"
          ]
        }
      ]
    },
    {
      "cell_type": "code",
      "source": [
        "#remaining life\n",
        "age = input(\"What is your current age?\")\n",
        "years=int(age)\n",
        "x=(90-years)*365\n",
        "y=(90-years)*52\n",
        "z=(90-years)*12\n",
        "print(f\"You have {x} days, {y} weeks,and {z} months left.\")#f-strings easy to concat strings and different data types wihtout coverting type to str"
      ],
      "metadata": {
        "colab": {
          "base_uri": "https://localhost:8080/"
        },
        "id": "8izAI8kun7Y2",
        "outputId": "071bfdb3-fd3e-4e49-a3b7-522cd73e9580"
      },
      "execution_count": 19,
      "outputs": [
        {
          "output_type": "stream",
          "name": "stdout",
          "text": [
            "What is your current age?20\n",
            "You have 25550 days, 3640 weeks,and 840 months left.\n"
          ]
        }
      ]
    },
    {
      "cell_type": "code",
      "source": [
        "#Tip Calculator - split bill among people with tip\n",
        "print(\"Welcome to the Tip Calculator.\\n\")\n",
        "bill=float(input(\"What was the total bill ? $\"))\n",
        "tip=int(input(\"what percentage tip would you like to give ? 10,12 or 15 ?\"))\n",
        "n=int(input(\"how many people to split the bill ? \"))\n",
        "final=((bill/n)*(1+ tip/100))\n",
        "amount_each=\"{:.2f}\".format(final)#round off result to 2 decimal places\n",
        "print(f\"Each person should pay :${amount_each}\")"
      ],
      "metadata": {
        "colab": {
          "base_uri": "https://localhost:8080/"
        },
        "id": "RaWzHAHBof5J",
        "outputId": "7d531f90-b747-4ae8-dd13-94a0fea56076"
      },
      "execution_count": 22,
      "outputs": [
        {
          "output_type": "stream",
          "name": "stdout",
          "text": [
            "Welcome to the Tip Calculator.\n",
            "\n",
            "What was the total bill ? $150\n",
            "what percentage tip would you like to give ? 10,12 or 15 ?12\n",
            "how many people to split the bill ? 5\n",
            "Each person should pay :$33.60\n"
          ]
        }
      ]
    },
    {
      "cell_type": "code",
      "source": [],
      "metadata": {
        "id": "r8hIofYcpvPY"
      },
      "execution_count": null,
      "outputs": []
    }
  ]
}